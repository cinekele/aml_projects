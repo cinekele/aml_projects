{
 "cells": [
  {
   "cell_type": "code",
   "execution_count": 2,
   "metadata": {
    "collapsed": true,
    "pycharm": {
     "name": "#%%\n"
    }
   },
   "outputs": [],
   "source": [
    "import pandas as pd\n",
    "import numpy as np\n",
    "\n",
    "from sklearn.svm import LinearSVC\n",
    "from sklearn.feature_extraction.text import CountVectorizer"
   ]
  },
  {
   "cell_type": "code",
   "execution_count": 3,
   "outputs": [],
   "source": [
    "columns = [  0,   1,   2,   5,   9,  10,  11,  15,  17,  18,  19,  30,  31,\n",
    "        32,  35,  36,  38,  39,  40,  42,  45,  50,  51,  53,  57,  61,\n",
    "        62,  68,  72,  73,  74,  76,  77,  80,  81,  82,  86,  87,  88,\n",
    "        89,  90,  99, 100, 102, 105, 107, 108, 109, 110, 111, 114, 115,\n",
    "       118, 119, 120, 121, 125, 127, 130, 131, 137, 150, 151, 156, 157,\n",
    "       159, 160, 161, 162, 163, 164, 166, 167, 168, 169, 171, 172, 176,\n",
    "       177, 178, 179, 180, 181, 182, 183, 185, 190, 194, 195, 196, 197,\n",
    "       200, 206, 207, 212, 214, 218, 219, 220, 224, 225, 230, 233, 236,\n",
    "       237, 239, 240, 243]"
   ],
   "metadata": {
    "collapsed": false,
    "pycharm": {
     "name": "#%%\n"
    }
   }
  },
  {
   "cell_type": "code",
   "execution_count": 7,
   "outputs": [],
   "source": [
    "vectorizer = CountVectorizer(\n",
    "        max_df=0.8625878562494729, min_df=0.008728921136403306, dtype=np.float64)\n",
    "X_train = vectorizer.fit_transform(pd.read_csv(\"sms_train.csv\")[\"message\"])\n",
    "y_train = pd.read_csv(\"sms_train.csv\")[\"label\"]"
   ],
   "metadata": {
    "collapsed": false,
    "pycharm": {
     "name": "#%%\n"
    }
   }
  },
  {
   "cell_type": "code",
   "execution_count": 10,
   "outputs": [
    {
     "data": {
      "text/plain": "['150p',\n '16',\n '50',\n 'again',\n 'always',\n 'am',\n 'amp',\n 'anything',\n 'around',\n 'as',\n 'ask',\n 'call',\n 'can',\n 'cant',\n 'chat',\n 'claim',\n 'com',\n 'come',\n 'coming',\n 'cos',\n 'da',\n 'doing',\n 'don',\n 'down',\n 'feel',\n 'free',\n 'friends',\n 'gonna',\n 'gt',\n 'guaranteed',\n 'gud',\n 'haha',\n 'happy',\n 'he',\n 'help',\n 'her',\n 'him',\n 'his',\n 'home',\n 'hope',\n 'how',\n 'know',\n 'last',\n 'later',\n 'life',\n 'll',\n 'lol',\n 'lor',\n 'love',\n 'lt',\n 'may',\n 'me',\n 'min',\n 'mins',\n 'miss',\n 'mobile',\n 'msg',\n 'my',\n 'new',\n 'next',\n 'now',\n 'over',\n 'per',\n 'pls',\n 'prize',\n 'really',\n 'reply',\n 'right',\n 'said',\n 'same',\n 'say',\n 'send',\n 'sent',\n 'service',\n 'she',\n 'sleep',\n 'sms',\n 'something',\n 'soon',\n 'sorry',\n 'special',\n 'still',\n 'stop',\n 'sure',\n 'take',\n 'text',\n 'then',\n 'things',\n 'think',\n 'this',\n 'thk',\n 'today',\n 'txt',\n 'uk',\n 'use',\n 'very',\n 'was',\n 'wat',\n 'way',\n 'were',\n 'what',\n 'why',\n 'with',\n 'would',\n 'www',\n 'yeah',\n 'year',\n 'your']"
     },
     "execution_count": 10,
     "metadata": {},
     "output_type": "execute_result"
    }
   ],
   "source": [
    "model = LinearSVC(C=23.156370429386005, penalty='l1', dual=False, class_weight=\"balanced\",\n",
    "        max_iter=1_000_000)\n",
    "X_selected = X_train[:, columns]\n",
    "idx_to_word = {idx: w for w, idx in vectorizer.vocabulary_.items()}\n",
    "columns_names = [idx_to_word[c] for c in columns]\n",
    "columns_names"
   ],
   "metadata": {
    "collapsed": false,
    "pycharm": {
     "name": "#%%\n"
    }
   }
  },
  {
   "cell_type": "code",
   "execution_count": 11,
   "outputs": [
    {
     "data": {
      "text/plain": "LinearSVC(C=23.156370429386005, class_weight='balanced', dual=False,\n          max_iter=1000000, penalty='l1')",
      "text/html": "<style>#sk-container-id-1 {color: black;background-color: white;}#sk-container-id-1 pre{padding: 0;}#sk-container-id-1 div.sk-toggleable {background-color: white;}#sk-container-id-1 label.sk-toggleable__label {cursor: pointer;display: block;width: 100%;margin-bottom: 0;padding: 0.3em;box-sizing: border-box;text-align: center;}#sk-container-id-1 label.sk-toggleable__label-arrow:before {content: \"▸\";float: left;margin-right: 0.25em;color: #696969;}#sk-container-id-1 label.sk-toggleable__label-arrow:hover:before {color: black;}#sk-container-id-1 div.sk-estimator:hover label.sk-toggleable__label-arrow:before {color: black;}#sk-container-id-1 div.sk-toggleable__content {max-height: 0;max-width: 0;overflow: hidden;text-align: left;background-color: #f0f8ff;}#sk-container-id-1 div.sk-toggleable__content pre {margin: 0.2em;color: black;border-radius: 0.25em;background-color: #f0f8ff;}#sk-container-id-1 input.sk-toggleable__control:checked~div.sk-toggleable__content {max-height: 200px;max-width: 100%;overflow: auto;}#sk-container-id-1 input.sk-toggleable__control:checked~label.sk-toggleable__label-arrow:before {content: \"▾\";}#sk-container-id-1 div.sk-estimator input.sk-toggleable__control:checked~label.sk-toggleable__label {background-color: #d4ebff;}#sk-container-id-1 div.sk-label input.sk-toggleable__control:checked~label.sk-toggleable__label {background-color: #d4ebff;}#sk-container-id-1 input.sk-hidden--visually {border: 0;clip: rect(1px 1px 1px 1px);clip: rect(1px, 1px, 1px, 1px);height: 1px;margin: -1px;overflow: hidden;padding: 0;position: absolute;width: 1px;}#sk-container-id-1 div.sk-estimator {font-family: monospace;background-color: #f0f8ff;border: 1px dotted black;border-radius: 0.25em;box-sizing: border-box;margin-bottom: 0.5em;}#sk-container-id-1 div.sk-estimator:hover {background-color: #d4ebff;}#sk-container-id-1 div.sk-parallel-item::after {content: \"\";width: 100%;border-bottom: 1px solid gray;flex-grow: 1;}#sk-container-id-1 div.sk-label:hover label.sk-toggleable__label {background-color: #d4ebff;}#sk-container-id-1 div.sk-serial::before {content: \"\";position: absolute;border-left: 1px solid gray;box-sizing: border-box;top: 0;bottom: 0;left: 50%;z-index: 0;}#sk-container-id-1 div.sk-serial {display: flex;flex-direction: column;align-items: center;background-color: white;padding-right: 0.2em;padding-left: 0.2em;position: relative;}#sk-container-id-1 div.sk-item {position: relative;z-index: 1;}#sk-container-id-1 div.sk-parallel {display: flex;align-items: stretch;justify-content: center;background-color: white;position: relative;}#sk-container-id-1 div.sk-item::before, #sk-container-id-1 div.sk-parallel-item::before {content: \"\";position: absolute;border-left: 1px solid gray;box-sizing: border-box;top: 0;bottom: 0;left: 50%;z-index: -1;}#sk-container-id-1 div.sk-parallel-item {display: flex;flex-direction: column;z-index: 1;position: relative;background-color: white;}#sk-container-id-1 div.sk-parallel-item:first-child::after {align-self: flex-end;width: 50%;}#sk-container-id-1 div.sk-parallel-item:last-child::after {align-self: flex-start;width: 50%;}#sk-container-id-1 div.sk-parallel-item:only-child::after {width: 0;}#sk-container-id-1 div.sk-dashed-wrapped {border: 1px dashed gray;margin: 0 0.4em 0.5em 0.4em;box-sizing: border-box;padding-bottom: 0.4em;background-color: white;}#sk-container-id-1 div.sk-label label {font-family: monospace;font-weight: bold;display: inline-block;line-height: 1.2em;}#sk-container-id-1 div.sk-label-container {text-align: center;}#sk-container-id-1 div.sk-container {/* jupyter's `normalize.less` sets `[hidden] { display: none; }` but bootstrap.min.css set `[hidden] { display: none !important; }` so we also need the `!important` here to be able to override the default hidden behavior on the sphinx rendered scikit-learn.org. See: https://github.com/scikit-learn/scikit-learn/issues/21755 */display: inline-block !important;position: relative;}#sk-container-id-1 div.sk-text-repr-fallback {display: none;}</style><div id=\"sk-container-id-1\" class=\"sk-top-container\"><div class=\"sk-text-repr-fallback\"><pre>LinearSVC(C=23.156370429386005, class_weight=&#x27;balanced&#x27;, dual=False,\n          max_iter=1000000, penalty=&#x27;l1&#x27;)</pre><b>In a Jupyter environment, please rerun this cell to show the HTML representation or trust the notebook. <br />On GitHub, the HTML representation is unable to render, please try loading this page with nbviewer.org.</b></div><div class=\"sk-container\" hidden><div class=\"sk-item\"><div class=\"sk-estimator sk-toggleable\"><input class=\"sk-toggleable__control sk-hidden--visually\" id=\"sk-estimator-id-1\" type=\"checkbox\" checked><label for=\"sk-estimator-id-1\" class=\"sk-toggleable__label sk-toggleable__label-arrow\">LinearSVC</label><div class=\"sk-toggleable__content\"><pre>LinearSVC(C=23.156370429386005, class_weight=&#x27;balanced&#x27;, dual=False,\n          max_iter=1000000, penalty=&#x27;l1&#x27;)</pre></div></div></div></div></div>"
     },
     "execution_count": 11,
     "metadata": {},
     "output_type": "execute_result"
    }
   ],
   "source": [
    "model.fit(X_selected, y_train)"
   ],
   "metadata": {
    "collapsed": false,
    "pycharm": {
     "name": "#%%\n"
    }
   }
  },
  {
   "cell_type": "code",
   "execution_count": 69,
   "outputs": [],
   "source": [
    "coefs = model.coef_.reshape(-1)\n",
    "column_weight = {col: c for (col, c) in zip(columns_names, list(coefs))}\n",
    "column_weight = pd.DataFrame(column_weight, index=[0]).transpose()\n",
    "column_weight.columns = [\"coef\"]\n",
    "positive = column_weight[column_weight.coef > 0]\n",
    "negative = column_weight[column_weight.coef < 0]"
   ],
   "metadata": {
    "collapsed": false,
    "pycharm": {
     "name": "#%%\n"
    }
   }
  },
  {
   "cell_type": "code",
   "execution_count": 70,
   "outputs": [],
   "source": [
    "def save_word_list(df, fname):\n",
    "    df.loc[:,'weight'] = np.abs(np.round(df.coef * 100).astype(int))\n",
    "    df = df.reset_index()\n",
    "    df.columns = [\"word\", \"coef\", \"weight\"]\n",
    "    df.loc[:,'color'] = \"\"\n",
    "    df.loc[:,'url'] = \"\"\n",
    "    df.drop([\"coef\"], axis=1).loc[:, [\"weight\", \"word\", \"color\", \"url\"]].to_csv(fname, index=False)"
   ],
   "metadata": {
    "collapsed": false,
    "pycharm": {
     "name": "#%%\n"
    }
   }
  },
  {
   "cell_type": "code",
   "execution_count": 71,
   "outputs": [
    {
     "name": "stderr",
     "output_type": "stream",
     "text": [
      "C:\\Users\\sawickib\\AppData\\Local\\Temp\\ipykernel_4404\\4002574538.py:2: SettingWithCopyWarning: \n",
      "A value is trying to be set on a copy of a slice from a DataFrame.\n",
      "Try using .loc[row_indexer,col_indexer] = value instead\n",
      "\n",
      "See the caveats in the documentation: https://pandas.pydata.org/pandas-docs/stable/user_guide/indexing.html#returning-a-view-versus-a-copy\n",
      "  df.loc[:,'weight'] = np.abs(np.round(df.coef * 100).astype(int))\n",
      "C:\\Users\\sawickib\\AppData\\Local\\Temp\\ipykernel_4404\\4002574538.py:2: SettingWithCopyWarning: \n",
      "A value is trying to be set on a copy of a slice from a DataFrame.\n",
      "Try using .loc[row_indexer,col_indexer] = value instead\n",
      "\n",
      "See the caveats in the documentation: https://pandas.pydata.org/pandas-docs/stable/user_guide/indexing.html#returning-a-view-versus-a-copy\n",
      "  df.loc[:,'weight'] = np.abs(np.round(df.coef * 100).astype(int))\n"
     ]
    }
   ],
   "source": [
    "save_word_list(positive, \"positive_words.csv\")\n",
    "save_word_list(negative, \"negative_words.csv\")"
   ],
   "metadata": {
    "collapsed": false,
    "pycharm": {
     "name": "#%%\n"
    }
   }
  },
  {
   "cell_type": "code",
   "execution_count": 72,
   "outputs": [],
   "source": [
    "def save_word_list_color(df, fname):\n",
    "    df.loc[:,'weight'] = np.abs(np.round(df.coef * 100).astype(int))\n",
    "    df = df.reset_index()\n",
    "    df.columns = [\"word\", \"coef\", \"weight\"]\n",
    "    df.loc[:,'color'] = df.coef.apply(lambda c: \"#0ad11e\" if c < 0 else \"#e30b0b\")\n",
    "    df.loc[:,'url'] = \"\"\n",
    "    df.drop([\"coef\"], axis=1).loc[:, [\"weight\", \"word\", \"color\", \"url\"]].to_csv(fname, index=False)"
   ],
   "metadata": {
    "collapsed": false,
    "pycharm": {
     "name": "#%%\n"
    }
   }
  },
  {
   "cell_type": "code",
   "execution_count": 73,
   "outputs": [],
   "source": [
    "save_word_list_color(column_weight, \"colored_words.csv\")"
   ],
   "metadata": {
    "collapsed": false,
    "pycharm": {
     "name": "#%%\n"
    }
   }
  }
 ],
 "metadata": {
  "kernelspec": {
   "display_name": "Python 3",
   "language": "python",
   "name": "python3"
  },
  "language_info": {
   "codemirror_mode": {
    "name": "ipython",
    "version": 2
   },
   "file_extension": ".py",
   "mimetype": "text/x-python",
   "name": "python",
   "nbconvert_exporter": "python",
   "pygments_lexer": "ipython2",
   "version": "2.7.6"
  }
 },
 "nbformat": 4,
 "nbformat_minor": 0
}