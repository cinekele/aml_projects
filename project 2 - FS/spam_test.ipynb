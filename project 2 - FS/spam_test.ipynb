{
 "cells": [
  {
   "cell_type": "code",
   "execution_count": 15,
   "outputs": [],
   "source": [
    "import numpy as np\n",
    "import pandas as pd\n",
    "from sklearn.feature_extraction.text import CountVectorizer\n",
    "from sklearn.svm import LinearSVC\n",
    "\n",
    "from optuna_utils import spam_scorer"
   ],
   "metadata": {
    "collapsed": false
   }
  },
  {
   "cell_type": "code",
   "execution_count": 1,
   "metadata": {
    "collapsed": true
   },
   "outputs": [],
   "source": [
    "train_raw = pd.read_csv(\"data/sms_train.csv\")\n",
    "test_raw = pd.read_csv(\"data/sms_test.csv\")\n",
    "vectorizer = CountVectorizer(dtype=np.float64)\n",
    "X_train = vectorizer.fit_transform(train_raw[\"message\"])\n",
    "y_train = train_raw[\"label\"]\n",
    "X_test = vectorizer.transform(test_raw[\"message\"])"
   ]
  },
  {
   "cell_type": "code",
   "execution_count": 2,
   "outputs": [
    {
     "data": {
      "text/plain": "      label                                            message\n0         0  Go until jurong point, crazy.. Available only ...\n1         0                      Ok lar... Joking wif u oni...\n2         1  Free entry in 2 a wkly comp to win FA Cup fina...\n3         0  U dun say so early hor... U c already then say...\n4         0  Nah I don't think he goes to usf, he lives aro...\n...     ...                                                ...\n5567      1  This is the 2nd time we have tried 2 contact u...\n5568      0               Will ü b going to esplanade fr home?\n5569      0  Pity, * was in mood for that. So...any other s...\n5570      0  The guy did some bitching but I acted like i'd...\n5571      0                         Rofl. Its true to its name\n\n[5572 rows x 2 columns]",
      "text/html": "<div>\n<style scoped>\n    .dataframe tbody tr th:only-of-type {\n        vertical-align: middle;\n    }\n\n    .dataframe tbody tr th {\n        vertical-align: top;\n    }\n\n    .dataframe thead th {\n        text-align: right;\n    }\n</style>\n<table border=\"1\" class=\"dataframe\">\n  <thead>\n    <tr style=\"text-align: right;\">\n      <th></th>\n      <th>label</th>\n      <th>message</th>\n    </tr>\n  </thead>\n  <tbody>\n    <tr>\n      <th>0</th>\n      <td>0</td>\n      <td>Go until jurong point, crazy.. Available only ...</td>\n    </tr>\n    <tr>\n      <th>1</th>\n      <td>0</td>\n      <td>Ok lar... Joking wif u oni...</td>\n    </tr>\n    <tr>\n      <th>2</th>\n      <td>1</td>\n      <td>Free entry in 2 a wkly comp to win FA Cup fina...</td>\n    </tr>\n    <tr>\n      <th>3</th>\n      <td>0</td>\n      <td>U dun say so early hor... U c already then say...</td>\n    </tr>\n    <tr>\n      <th>4</th>\n      <td>0</td>\n      <td>Nah I don't think he goes to usf, he lives aro...</td>\n    </tr>\n    <tr>\n      <th>...</th>\n      <td>...</td>\n      <td>...</td>\n    </tr>\n    <tr>\n      <th>5567</th>\n      <td>1</td>\n      <td>This is the 2nd time we have tried 2 contact u...</td>\n    </tr>\n    <tr>\n      <th>5568</th>\n      <td>0</td>\n      <td>Will ü b going to esplanade fr home?</td>\n    </tr>\n    <tr>\n      <th>5569</th>\n      <td>0</td>\n      <td>Pity, * was in mood for that. So...any other s...</td>\n    </tr>\n    <tr>\n      <th>5570</th>\n      <td>0</td>\n      <td>The guy did some bitching but I acted like i'd...</td>\n    </tr>\n    <tr>\n      <th>5571</th>\n      <td>0</td>\n      <td>Rofl. Its true to its name</td>\n    </tr>\n  </tbody>\n</table>\n<p>5572 rows × 2 columns</p>\n</div>"
     },
     "execution_count": 2,
     "metadata": {},
     "output_type": "execute_result"
    }
   ],
   "source": [
    "full_sms = pd.read_csv('data/sms.tsv', sep=\"\\t\", header=None)\n",
    "full_sms.columns = [\"label\", \"message\"]\n",
    "full_sms.label = full_sms.label.apply(lambda l: 1 if l == \"spam\" else 0)\n",
    "full_sms"
   ],
   "metadata": {
    "collapsed": false
   }
  },
  {
   "cell_type": "code",
   "execution_count": 3,
   "outputs": [
    {
     "data": {
      "text/plain": "                                               message  label\n0                Yo, you at jp and hungry like a mofo?      0\n1    It's é only $140 ard...É rest all ard $180 at ...      0\n2     &lt;#&gt; , that's all? Guess that's easy enough      0\n3    Y?WHERE U AT DOGBREATH? ITS JUST SOUNDING LIKE...      0\n4    Good afternoon sexy buns! How goes the job sea...      0\n..                                                 ...    ...\n995  Tell your friends what you plan to do on Valen...      0\n996                     No. Yes please. Been swimming?      0\n997                   Thank you. I like you as well...      0\n998                            Stupid.its not possible      0\n999  The search 4 happiness is 1 of d main sources ...      0\n\n[1000 rows x 2 columns]",
      "text/html": "<div>\n<style scoped>\n    .dataframe tbody tr th:only-of-type {\n        vertical-align: middle;\n    }\n\n    .dataframe tbody tr th {\n        vertical-align: top;\n    }\n\n    .dataframe thead th {\n        text-align: right;\n    }\n</style>\n<table border=\"1\" class=\"dataframe\">\n  <thead>\n    <tr style=\"text-align: right;\">\n      <th></th>\n      <th>message</th>\n      <th>label</th>\n    </tr>\n  </thead>\n  <tbody>\n    <tr>\n      <th>0</th>\n      <td>Yo, you at jp and hungry like a mofo?</td>\n      <td>0</td>\n    </tr>\n    <tr>\n      <th>1</th>\n      <td>It's é only $140 ard...É rest all ard $180 at ...</td>\n      <td>0</td>\n    </tr>\n    <tr>\n      <th>2</th>\n      <td>&amp;lt;#&amp;gt; , that's all? Guess that's easy enough</td>\n      <td>0</td>\n    </tr>\n    <tr>\n      <th>3</th>\n      <td>Y?WHERE U AT DOGBREATH? ITS JUST SOUNDING LIKE...</td>\n      <td>0</td>\n    </tr>\n    <tr>\n      <th>4</th>\n      <td>Good afternoon sexy buns! How goes the job sea...</td>\n      <td>0</td>\n    </tr>\n    <tr>\n      <th>...</th>\n      <td>...</td>\n      <td>...</td>\n    </tr>\n    <tr>\n      <th>995</th>\n      <td>Tell your friends what you plan to do on Valen...</td>\n      <td>0</td>\n    </tr>\n    <tr>\n      <th>996</th>\n      <td>No. Yes please. Been swimming?</td>\n      <td>0</td>\n    </tr>\n    <tr>\n      <th>997</th>\n      <td>Thank you. I like you as well...</td>\n      <td>0</td>\n    </tr>\n    <tr>\n      <th>998</th>\n      <td>Stupid.its not possible</td>\n      <td>0</td>\n    </tr>\n    <tr>\n      <th>999</th>\n      <td>The search 4 happiness is 1 of d main sources ...</td>\n      <td>0</td>\n    </tr>\n  </tbody>\n</table>\n<p>1000 rows × 2 columns</p>\n</div>"
     },
     "execution_count": 3,
     "metadata": {},
     "output_type": "execute_result"
    }
   ],
   "source": [
    "test_df = pd.merge(test_raw, full_sms.drop_duplicates(), on=\"message\", how=\"inner\")\n",
    "test_df"
   ],
   "metadata": {
    "collapsed": false
   }
  },
  {
   "cell_type": "code",
   "execution_count": 4,
   "outputs": [],
   "source": [
    "y_test = test_df['label']"
   ],
   "metadata": {
    "collapsed": false
   }
  },
  {
   "cell_type": "code",
   "execution_count": 12,
   "outputs": [],
   "source": [
    "columns = np.array(pd.read_csv(\"data/rfe_svc_columns.csv\", index_col=0, header=None)).reshape(-1,)\n",
    "X_train_selected = X_train[:,columns]\n",
    "X_test_selected = X_test[:,columns]"
   ],
   "metadata": {
    "collapsed": false
   }
  },
  {
   "cell_type": "code",
   "execution_count": 16,
   "outputs": [
    {
     "data": {
      "text/plain": "0.5909827306883596"
     },
     "execution_count": 16,
     "metadata": {},
     "output_type": "execute_result"
    }
   ],
   "source": [
    "best_svc = LinearSVC(C=52.01425081408176, penalty='l1', dual=False, class_weight=\"balanced\", max_iter=1_000_000).fit(X_train_selected, y_train)\n",
    "spam_scorer(best_svc, X_test_selected, y_test)"
   ],
   "metadata": {
    "collapsed": false
   }
  },
  {
   "cell_type": "code",
   "execution_count": 19,
   "outputs": [
    {
     "data": {
      "text/plain": "0.5991332269033381"
     },
     "execution_count": 19,
     "metadata": {},
     "output_type": "execute_result"
    }
   ],
   "source": [
    "from xgboost import XGBClassifier\n",
    "from sklearn.metrics import balanced_accuracy_score\n",
    "\n",
    "clf = XGBClassifier().fit(X_train, y_train)\n",
    "balanced_accuracy_score(clf.predict(X_test), y_test)"
   ],
   "metadata": {
    "collapsed": false
   }
  }
 ],
 "metadata": {
  "kernelspec": {
   "display_name": "Python 3",
   "language": "python",
   "name": "python3"
  },
  "language_info": {
   "codemirror_mode": {
    "name": "ipython",
    "version": 2
   },
   "file_extension": ".py",
   "mimetype": "text/x-python",
   "name": "python",
   "nbconvert_exporter": "python",
   "pygments_lexer": "ipython2",
   "version": "2.7.6"
  }
 },
 "nbformat": 4,
 "nbformat_minor": 0
}
