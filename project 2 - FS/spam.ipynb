{
 "cells": [
  {
   "cell_type": "code",
   "execution_count": 10,
   "metadata": {
    "collapsed": true
   },
   "outputs": [],
   "source": [
    "from sklearn.feature_extraction.text import CountVectorizer\n",
    "from sklearn.model_selection import StratifiedKFold\n",
    "from sklearn.feature_selection import SelectFromModel, SelectKBest, SelectPercentile\n",
    "from sklearn.tree import DecisionTreeClassifier\n",
    "import pandas as pd\n",
    "import numpy as np"
   ]
  },
  {
   "cell_type": "code",
   "execution_count": 3,
   "outputs": [],
   "source": [
    "SEED=12345"
   ],
   "metadata": {
    "collapsed": false
   }
  },
  {
   "cell_type": "code",
   "execution_count": 4,
   "outputs": [],
   "source": [
    "train_raw = pd.read_csv(\"data/sms_train.csv\")\n",
    "test_raw = pd.read_csv(\"data/sms_test.csv\")"
   ],
   "metadata": {
    "collapsed": false
   }
  },
  {
   "cell_type": "code",
   "execution_count": 5,
   "outputs": [
    {
     "data": {
      "text/plain": "0    3959\n1     613\nName: label, dtype: int64"
     },
     "execution_count": 5,
     "metadata": {},
     "output_type": "execute_result"
    }
   ],
   "source": [
    "train_raw[\"label\"].value_counts()"
   ],
   "metadata": {
    "collapsed": false
   }
  },
  {
   "cell_type": "code",
   "execution_count": 6,
   "outputs": [],
   "source": [
    "vectorizer = CountVectorizer(dtype=np.float64)\n",
    "X_train = vectorizer.fit_transform(train_raw[\"message\"])\n",
    "y_train = train_raw[\"label\"]\n",
    "X_test = vectorizer.transform(test_raw[\"message\"])"
   ],
   "metadata": {
    "collapsed": false
   }
  },
  {
   "cell_type": "code",
   "execution_count": 7,
   "outputs": [],
   "source": [
    "skf = StratifiedKFold(n_splits=10, random_state=SEED, shuffle=True)\n",
    "scores = []\n",
    "for train_idx, val_idx in skf.split(X_train, y_train):\n",
    "    clf = DecisionTreeClassifier()\n",
    "    clf = clf.fit(X_train[train_idx], y_train[train_idx])\n",
    "    scores += [clf.score(X_train[val_idx], y_train[val_idx])]"
   ],
   "metadata": {
    "collapsed": false
   }
  },
  {
   "cell_type": "code",
   "execution_count": 8,
   "outputs": [
    {
     "data": {
      "text/plain": "0.9623804382100849"
     },
     "execution_count": 8,
     "metadata": {},
     "output_type": "execute_result"
    }
   ],
   "source": [
    "sum(scores) / len(scores)"
   ],
   "metadata": {
    "collapsed": false
   }
  },
  {
   "cell_type": "code",
   "execution_count": 9,
   "outputs": [
    {
     "name": "stdout",
     "output_type": "stream",
     "text": [
      "10\n",
      "1\n",
      "0.1\n",
      "0.01\n"
     ]
    }
   ],
   "source": [
    "from sklearn.svm import LinearSVC\n",
    "cs = [10, 1, 0.1, 0.01]\n",
    "res = []\n",
    "for c in cs:\n",
    "    print(c)\n",
    "    scores = []\n",
    "    n_selected = []\n",
    "    for train_idx, val_idx in skf.split(X_train, y_train):\n",
    "        clf = LinearSVC(C=c, penalty='l1', dual=False, max_iter=1_000_000)\n",
    "        clf = clf.fit(X_train[train_idx], y_train[train_idx])\n",
    "        selector = SelectFromModel(clf, prefit=True)\n",
    "        n_selected += [selector.transform(X_train).shape[1]]\n",
    "        scores += [clf.score(X_train[val_idx], y_train[val_idx])]\n",
    "\n",
    "    res += [{\n",
    "        'c': c,\n",
    "        'score': sum(scores) / len(scores),\n",
    "        'n_selected': sum(n_selected) / len(n_selected)\n",
    "    }]"
   ],
   "metadata": {
    "collapsed": false
   }
  },
  {
   "cell_type": "code",
   "execution_count": 10,
   "outputs": [
    {
     "data": {
      "text/plain": "[{'c': 10, 'score': 0.9787827391474684, 'n_selected': 418.1},\n {'c': 1, 'score': 0.9805328084240299, 'n_selected': 357.1},\n {'c': 0.1, 'score': 0.9761593074254918, 'n_selected': 126.8},\n {'c': 0.01, 'score': 0.9341633780206969, 'n_selected': 24.8}]"
     },
     "execution_count": 10,
     "metadata": {},
     "output_type": "execute_result"
    }
   ],
   "source": [
    "res"
   ],
   "metadata": {
    "collapsed": false
   }
  },
  {
   "cell_type": "markdown",
   "source": [
    "## Optuna"
   ],
   "metadata": {
    "collapsed": false
   }
  },
  {
   "cell_type": "code",
   "execution_count": 7,
   "outputs": [],
   "source": [
    "import optuna\n",
    "from optuna_utils import Objective"
   ],
   "metadata": {
    "collapsed": false
   }
  },
  {
   "cell_type": "code",
   "execution_count": 11,
   "outputs": [
    {
     "name": "stderr",
     "output_type": "stream",
     "text": [
      "\u001B[32m[I 2023-05-23 22:21:29,276]\u001B[0m A new study created in memory with name: no-name-1a000198-6f43-4d9a-8547-ab331e27c578\u001B[0m\n",
      "E:\\Studies\\DataScience-1sem\\AdvancedMachineLearning\\Projects\\venv\\lib\\site-packages\\optuna\\progress_bar.py:56: ExperimentalWarning:\n",
      "\n",
      "Progress bar is experimental (supported from v1.2.0). The interface can change in the future.\n",
      "\n"
     ]
    },
    {
     "data": {
      "text/plain": "  0%|          | 0/1000 [00:00<?, ?it/s]",
      "application/vnd.jupyter.widget-view+json": {
       "version_major": 2,
       "version_minor": 0,
       "model_id": "483c909cbf264ac68a4974b06eba4cdb"
      }
     },
     "metadata": {},
     "output_type": "display_data"
    },
    {
     "name": "stdout",
     "output_type": "stream",
     "text": [
      "\u001B[32m[I 2023-05-23 22:21:30,444]\u001B[0m Trial 0 finished with value: 0.8993877033206434 and parameters: {'classifier': 'XGB', 'xgb_booster': 'gbtree', 'xgb_max_depth': 10, 'xgb_n_estimators': 14, 'xgb_subsample': 0.7699294496600398, 'feature_selector': 'SelectFromModel'}. Best is trial 0 with value: 0.8993877033206434.\u001B[0m\n",
      "\u001B[32m[I 2023-05-23 22:21:30,865]\u001B[0m Trial 1 finished with value: 0.8819885437006286 and parameters: {'classifier': 'LGBM', 'lgbm_boosting_type': 'gbdt', 'lgbm_max_depth': 7, 'lgbm_n_estimators': 27, 'lgbm_subsample': 0.8480064728092374, 'feature_selector': 'SelectFromModel'}. Best is trial 0 with value: 0.8993877033206434.\u001B[0m\n",
      "\u001B[32m[I 2023-05-23 22:21:32,035]\u001B[0m Trial 2 finished with value: 0.2647 and parameters: {'classifier': 'SVC', 'svc_kernel': 'sigmoid', 'svc_C': 0.0003945208824180399, 'feature_selector_svm': 'SelectPercentile', 'percentile': 31}. Best is trial 0 with value: 0.8993877033206434.\u001B[0m\n",
      "\u001B[32m[I 2023-05-23 22:21:32,683]\u001B[0m Trial 3 finished with value: 0.6492721661011878 and parameters: {'classifier': 'SVC', 'svc_kernel': 'linear', 'svc_C': 16.588757232704285, 'feature_selector_svm': 'SelectPercentile', 'percentile': 38}. Best is trial 0 with value: 0.8993877033206434.\u001B[0m\n",
      "\u001B[32m[I 2023-05-23 22:21:33,390]\u001B[0m Trial 4 finished with value: 0.9120500462803808 and parameters: {'classifier': 'SVC', 'svc_kernel': 'linear', 'svc_C': 33.6031149683886, 'feature_selector_svm': 'SelectKBest', 'k': 80}. Best is trial 4 with value: 0.9120500462803808.\u001B[0m\n",
      "\u001B[32m[I 2023-05-23 22:21:34,156]\u001B[0m Trial 5 finished with value: 0.9097442677655725 and parameters: {'classifier': 'LGBM', 'lgbm_boosting_type': 'dart', 'lgbm_max_depth': 7, 'lgbm_n_estimators': 95, 'lgbm_subsample': 0.7490720803551361, 'feature_selector': 'SelectFromModel'}. Best is trial 4 with value: 0.9120500462803808.\u001B[0m\n",
      "\u001B[32m[I 2023-05-23 22:21:35,298]\u001B[0m Trial 6 finished with value: 0.7719908440107592 and parameters: {'classifier': 'LGBM', 'lgbm_boosting_type': 'gbdt', 'lgbm_max_depth': 12, 'lgbm_n_estimators': 376, 'lgbm_subsample': 0.6720060865836673, 'feature_selector': 'SelectPercentile', 'percentile': 21}. Best is trial 4 with value: 0.9120500462803808.\u001B[0m\n",
      "\u001B[32m[I 2023-05-23 22:21:37,112]\u001B[0m Trial 7 finished with value: 0.5411316673330668 and parameters: {'classifier': 'SVC', 'svc_kernel': 'poly', 'svc_C': 0.19649667995638442, 'feature_selector_svm': 'SelectKBest', 'k': 2397}. Best is trial 4 with value: 0.9120500462803808.\u001B[0m\n",
      "\u001B[32m[I 2023-05-23 22:21:38,115]\u001B[0m Trial 8 finished with value: 0.7450211562940238 and parameters: {'classifier': 'XGB', 'xgb_booster': 'dart', 'xgb_max_depth': 15, 'xgb_n_estimators': 30, 'xgb_subsample': 0.8566292180505832, 'feature_selector': 'SelectPercentile', 'percentile': 25}. Best is trial 4 with value: 0.9120500462803808.\u001B[0m\n",
      "\u001B[32m[I 2023-05-23 22:21:38,288]\u001B[0m Trial 9 finished with value: 0.848911145348907 and parameters: {'classifier': 'SVC', 'svc_kernel': 'poly', 'svc_C': 10.814815175125904, 'feature_selector_svm': 'SelectKBest', 'k': 452}. Best is trial 4 with value: 0.9120500462803808.\u001B[0m\n",
      "\u001B[32m[I 2023-05-23 22:21:38,713]\u001B[0m Trial 10 finished with value: 0.8091980980788289 and parameters: {'classifier': 'SVC', 'svc_kernel': 'rbf', 'svc_C': 7334.942049539201, 'feature_selector_svm': 'SelectKBest', 'k': 9}. Best is trial 4 with value: 0.9120500462803808.\u001B[0m\n",
      "\u001B[32m[I 2023-05-23 22:21:38,893]\u001B[0m Trial 11 finished with value: 0.82829774059039 and parameters: {'classifier': 'SVC', 'svc_kernel': 'rbf', 'svc_C': 3755.7177047212735, 'feature_selector_svm': 'SelectKBest', 'k': 13}. Best is trial 4 with value: 0.9120500462803808.\u001B[0m\n",
      "\u001B[32m[I 2023-05-23 22:21:39,350]\u001B[0m Trial 13 finished with value: 0.7097333630365551 and parameters: {'classifier': 'LGBM', 'lgbm_boosting_type': 'dart', 'lgbm_max_depth': 1, 'lgbm_n_estimators': 99, 'lgbm_subsample': 0.9313035716933079, 'feature_selector': 'SelectKBest', 'k': 87}. Best is trial 4 with value: 0.9120500462803808.\u001B[0m\n",
      "\u001B[32m[I 2023-05-23 22:21:39,501]\u001B[0m Trial 12 finished with value: 0.7046801980399275 and parameters: {'classifier': 'LGBM', 'lgbm_boosting_type': 'dart', 'lgbm_max_depth': 1, 'lgbm_n_estimators': 94, 'lgbm_subsample': 0.7252608680737598, 'feature_selector': 'SelectKBest', 'k': 164}. Best is trial 4 with value: 0.9120500462803808.\u001B[0m\n",
      "\u001B[32m[I 2023-05-23 22:21:40,135]\u001B[0m Trial 15 finished with value: 0.8288371438384001 and parameters: {'classifier': 'LGBM', 'lgbm_boosting_type': 'dart', 'lgbm_max_depth': 8, 'lgbm_n_estimators': 11, 'lgbm_subsample': 0.6040274628475664, 'feature_selector': 'SelectFromModel'}. Best is trial 4 with value: 0.9120500462803808.\u001B[0m\n",
      "\u001B[32m[I 2023-05-23 22:21:40,268]\u001B[0m Trial 14 finished with value: 0.839439569534788 and parameters: {'classifier': 'LGBM', 'lgbm_boosting_type': 'dart', 'lgbm_max_depth': 8, 'lgbm_n_estimators': 13, 'lgbm_subsample': 0.6232644908424835, 'feature_selector': 'SelectFromModel'}. Best is trial 4 with value: 0.9120500462803808.\u001B[0m\n",
      "\u001B[32m[I 2023-05-23 22:24:29,387]\u001B[0m Trial 16 finished with value: 0.9217682236113716 and parameters: {'classifier': 'XGB', 'xgb_booster': 'dart', 'xgb_max_depth': 5, 'xgb_n_estimators': 436, 'xgb_subsample': 0.6045081943592733, 'feature_selector': 'SelectFromModel'}. Best is trial 16 with value: 0.9217682236113716.\u001B[0m\n",
      "\u001B[32m[I 2023-05-23 22:25:45,783]\u001B[0m Trial 17 finished with value: 0.9292616530316196 and parameters: {'classifier': 'XGB', 'xgb_booster': 'dart', 'xgb_max_depth': 1, 'xgb_n_estimators': 332, 'xgb_subsample': 0.6028182090334936, 'feature_selector': 'SelectFromModel'}. Best is trial 17 with value: 0.9292616530316196.\u001B[0m\n",
      "\u001B[32m[I 2023-05-23 22:26:25,260]\u001B[0m Trial 18 finished with value: 0.8856101513473963 and parameters: {'classifier': 'XGB', 'xgb_booster': 'dart', 'xgb_max_depth': 1, 'xgb_n_estimators': 423, 'xgb_subsample': 0.6172538627116483, 'feature_selector': 'SelectKBest', 'k': 43}. Best is trial 17 with value: 0.9292616530316196.\u001B[0m\n",
      "\u001B[32m[I 2023-05-23 22:29:10,921]\u001B[0m Trial 19 finished with value: 0.9300879925452847 and parameters: {'classifier': 'XGB', 'xgb_booster': 'dart', 'xgb_max_depth': 1, 'xgb_n_estimators': 488, 'xgb_subsample': 0.6051408956915354, 'feature_selector': 'SelectFromModel'}. Best is trial 19 with value: 0.9300879925452847.\u001B[0m\n",
      "\u001B[32m[I 2023-05-23 22:31:30,542]\u001B[0m Trial 20 finished with value: 0.9312676566796311 and parameters: {'classifier': 'XGB', 'xgb_booster': 'dart', 'xgb_max_depth': 1, 'xgb_n_estimators': 448, 'xgb_subsample': 0.6031524727465645, 'feature_selector': 'SelectFromModel'}. Best is trial 20 with value: 0.9312676566796311.\u001B[0m\n",
      "\u001B[32m[I 2023-05-23 22:31:52,132]\u001B[0m Trial 21 finished with value: 0.9114079538982145 and parameters: {'classifier': 'XGB', 'xgb_booster': 'dart', 'xgb_max_depth': 1, 'xgb_n_estimators': 178, 'xgb_subsample': 0.6012038217392521, 'feature_selector': 'SelectFromModel'}. Best is trial 20 with value: 0.9312676566796311.\u001B[0m\n",
      "\u001B[32m[I 2023-05-23 22:34:32,116]\u001B[0m Trial 22 finished with value: 0.9292218901670198 and parameters: {'classifier': 'XGB', 'xgb_booster': 'dart', 'xgb_max_depth': 1, 'xgb_n_estimators': 482, 'xgb_subsample': 0.6055416300160414, 'feature_selector': 'SelectFromModel'}. Best is trial 20 with value: 0.9312676566796311.\u001B[0m\n",
      "\u001B[32m[I 2023-05-23 22:36:59,601]\u001B[0m Trial 23 finished with value: 0.9315531900622375 and parameters: {'classifier': 'XGB', 'xgb_booster': 'dart', 'xgb_max_depth': 1, 'xgb_n_estimators': 460, 'xgb_subsample': 0.6826944615697711, 'feature_selector': 'SelectFromModel'}. Best is trial 23 with value: 0.9315531900622375.\u001B[0m\n"
     ]
    }
   ],
   "source": [
    "single_objective = optuna.create_study(direction=\"maximize\")\n",
    "single_objective.optimize(\n",
    "    Objective(X_train, y_train, feature_selectors=[SelectFromModel, SelectKBest, SelectPercentile], mode='single',\n",
    "              scaling_factor=0.01,\n",
    "              cv=StratifiedKFold(n_splits=5, shuffle=True, random_state=SEED), use_scaler=False),\n",
    "    n_trials=1000,\n",
    "    timeout=12*60,\n",
    "    gc_after_trial=True,\n",
    "    show_progress_bar=True,\n",
    "    n_jobs=2\n",
    ")"
   ],
   "metadata": {
    "collapsed": false
   }
  },
  {
   "cell_type": "code",
   "execution_count": 12,
   "outputs": [
    {
     "data": {
      "application/vnd.plotly.v1+json": {
       "data": [
        {
         "mode": "markers",
         "name": "Objective Value",
         "x": [
          0,
          1,
          2,
          3,
          4,
          5,
          6,
          7,
          8,
          9,
          10,
          11,
          12,
          13,
          14,
          15,
          16,
          17,
          18,
          19,
          20,
          21,
          22,
          23
         ],
         "y": [
          0.8993877033206434,
          0.8819885437006286,
          0.2647,
          0.6492721661011878,
          0.9120500462803808,
          0.9097442677655725,
          0.7719908440107592,
          0.5411316673330668,
          0.7450211562940238,
          0.848911145348907,
          0.8091980980788289,
          0.82829774059039,
          0.7046801980399275,
          0.7097333630365551,
          0.839439569534788,
          0.8288371438384001,
          0.9217682236113716,
          0.9292616530316196,
          0.8856101513473963,
          0.9300879925452847,
          0.9312676566796311,
          0.9114079538982145,
          0.9292218901670198,
          0.9315531900622375
         ],
         "type": "scatter"
        },
        {
         "name": "Best Value",
         "x": [
          0,
          1,
          2,
          3,
          4,
          5,
          6,
          7,
          8,
          9,
          10,
          11,
          12,
          13,
          14,
          15,
          16,
          17,
          18,
          19,
          20,
          21,
          22,
          23
         ],
         "y": [
          0.8993877033206434,
          0.8993877033206434,
          0.8993877033206434,
          0.8993877033206434,
          0.9120500462803808,
          0.9120500462803808,
          0.9120500462803808,
          0.9120500462803808,
          0.9120500462803808,
          0.9120500462803808,
          0.9120500462803808,
          0.9120500462803808,
          0.9120500462803808,
          0.9120500462803808,
          0.9120500462803808,
          0.9120500462803808,
          0.9217682236113716,
          0.9292616530316196,
          0.9292616530316196,
          0.9300879925452847,
          0.9312676566796311,
          0.9312676566796311,
          0.9312676566796311,
          0.9315531900622375
         ],
         "type": "scatter"
        }
       ],
       "layout": {
        "title": {
         "text": "Optimization History Plot"
        },
        "xaxis": {
         "title": {
          "text": "Trial"
         }
        },
        "yaxis": {
         "title": {
          "text": "Objective Value"
         }
        },
        "template": {
         "data": {
          "histogram2dcontour": [
           {
            "type": "histogram2dcontour",
            "colorbar": {
             "outlinewidth": 0,
             "ticks": ""
            },
            "colorscale": [
             [
              0.0,
              "#0d0887"
             ],
             [
              0.1111111111111111,
              "#46039f"
             ],
             [
              0.2222222222222222,
              "#7201a8"
             ],
             [
              0.3333333333333333,
              "#9c179e"
             ],
             [
              0.4444444444444444,
              "#bd3786"
             ],
             [
              0.5555555555555556,
              "#d8576b"
             ],
             [
              0.6666666666666666,
              "#ed7953"
             ],
             [
              0.7777777777777778,
              "#fb9f3a"
             ],
             [
              0.8888888888888888,
              "#fdca26"
             ],
             [
              1.0,
              "#f0f921"
             ]
            ]
           }
          ],
          "choropleth": [
           {
            "type": "choropleth",
            "colorbar": {
             "outlinewidth": 0,
             "ticks": ""
            }
           }
          ],
          "histogram2d": [
           {
            "type": "histogram2d",
            "colorbar": {
             "outlinewidth": 0,
             "ticks": ""
            },
            "colorscale": [
             [
              0.0,
              "#0d0887"
             ],
             [
              0.1111111111111111,
              "#46039f"
             ],
             [
              0.2222222222222222,
              "#7201a8"
             ],
             [
              0.3333333333333333,
              "#9c179e"
             ],
             [
              0.4444444444444444,
              "#bd3786"
             ],
             [
              0.5555555555555556,
              "#d8576b"
             ],
             [
              0.6666666666666666,
              "#ed7953"
             ],
             [
              0.7777777777777778,
              "#fb9f3a"
             ],
             [
              0.8888888888888888,
              "#fdca26"
             ],
             [
              1.0,
              "#f0f921"
             ]
            ]
           }
          ],
          "heatmap": [
           {
            "type": "heatmap",
            "colorbar": {
             "outlinewidth": 0,
             "ticks": ""
            },
            "colorscale": [
             [
              0.0,
              "#0d0887"
             ],
             [
              0.1111111111111111,
              "#46039f"
             ],
             [
              0.2222222222222222,
              "#7201a8"
             ],
             [
              0.3333333333333333,
              "#9c179e"
             ],
             [
              0.4444444444444444,
              "#bd3786"
             ],
             [
              0.5555555555555556,
              "#d8576b"
             ],
             [
              0.6666666666666666,
              "#ed7953"
             ],
             [
              0.7777777777777778,
              "#fb9f3a"
             ],
             [
              0.8888888888888888,
              "#fdca26"
             ],
             [
              1.0,
              "#f0f921"
             ]
            ]
           }
          ],
          "heatmapgl": [
           {
            "type": "heatmapgl",
            "colorbar": {
             "outlinewidth": 0,
             "ticks": ""
            },
            "colorscale": [
             [
              0.0,
              "#0d0887"
             ],
             [
              0.1111111111111111,
              "#46039f"
             ],
             [
              0.2222222222222222,
              "#7201a8"
             ],
             [
              0.3333333333333333,
              "#9c179e"
             ],
             [
              0.4444444444444444,
              "#bd3786"
             ],
             [
              0.5555555555555556,
              "#d8576b"
             ],
             [
              0.6666666666666666,
              "#ed7953"
             ],
             [
              0.7777777777777778,
              "#fb9f3a"
             ],
             [
              0.8888888888888888,
              "#fdca26"
             ],
             [
              1.0,
              "#f0f921"
             ]
            ]
           }
          ],
          "contourcarpet": [
           {
            "type": "contourcarpet",
            "colorbar": {
             "outlinewidth": 0,
             "ticks": ""
            }
           }
          ],
          "contour": [
           {
            "type": "contour",
            "colorbar": {
             "outlinewidth": 0,
             "ticks": ""
            },
            "colorscale": [
             [
              0.0,
              "#0d0887"
             ],
             [
              0.1111111111111111,
              "#46039f"
             ],
             [
              0.2222222222222222,
              "#7201a8"
             ],
             [
              0.3333333333333333,
              "#9c179e"
             ],
             [
              0.4444444444444444,
              "#bd3786"
             ],
             [
              0.5555555555555556,
              "#d8576b"
             ],
             [
              0.6666666666666666,
              "#ed7953"
             ],
             [
              0.7777777777777778,
              "#fb9f3a"
             ],
             [
              0.8888888888888888,
              "#fdca26"
             ],
             [
              1.0,
              "#f0f921"
             ]
            ]
           }
          ],
          "surface": [
           {
            "type": "surface",
            "colorbar": {
             "outlinewidth": 0,
             "ticks": ""
            },
            "colorscale": [
             [
              0.0,
              "#0d0887"
             ],
             [
              0.1111111111111111,
              "#46039f"
             ],
             [
              0.2222222222222222,
              "#7201a8"
             ],
             [
              0.3333333333333333,
              "#9c179e"
             ],
             [
              0.4444444444444444,
              "#bd3786"
             ],
             [
              0.5555555555555556,
              "#d8576b"
             ],
             [
              0.6666666666666666,
              "#ed7953"
             ],
             [
              0.7777777777777778,
              "#fb9f3a"
             ],
             [
              0.8888888888888888,
              "#fdca26"
             ],
             [
              1.0,
              "#f0f921"
             ]
            ]
           }
          ],
          "mesh3d": [
           {
            "type": "mesh3d",
            "colorbar": {
             "outlinewidth": 0,
             "ticks": ""
            }
           }
          ],
          "scatter": [
           {
            "fillpattern": {
             "fillmode": "overlay",
             "size": 10,
             "solidity": 0.2
            },
            "type": "scatter"
           }
          ],
          "parcoords": [
           {
            "type": "parcoords",
            "line": {
             "colorbar": {
              "outlinewidth": 0,
              "ticks": ""
             }
            }
           }
          ],
          "scatterpolargl": [
           {
            "type": "scatterpolargl",
            "marker": {
             "colorbar": {
              "outlinewidth": 0,
              "ticks": ""
             }
            }
           }
          ],
          "bar": [
           {
            "error_x": {
             "color": "#2a3f5f"
            },
            "error_y": {
             "color": "#2a3f5f"
            },
            "marker": {
             "line": {
              "color": "#E5ECF6",
              "width": 0.5
             },
             "pattern": {
              "fillmode": "overlay",
              "size": 10,
              "solidity": 0.2
             }
            },
            "type": "bar"
           }
          ],
          "scattergeo": [
           {
            "type": "scattergeo",
            "marker": {
             "colorbar": {
              "outlinewidth": 0,
              "ticks": ""
             }
            }
           }
          ],
          "scatterpolar": [
           {
            "type": "scatterpolar",
            "marker": {
             "colorbar": {
              "outlinewidth": 0,
              "ticks": ""
             }
            }
           }
          ],
          "histogram": [
           {
            "marker": {
             "pattern": {
              "fillmode": "overlay",
              "size": 10,
              "solidity": 0.2
             }
            },
            "type": "histogram"
           }
          ],
          "scattergl": [
           {
            "type": "scattergl",
            "marker": {
             "colorbar": {
              "outlinewidth": 0,
              "ticks": ""
             }
            }
           }
          ],
          "scatter3d": [
           {
            "type": "scatter3d",
            "line": {
             "colorbar": {
              "outlinewidth": 0,
              "ticks": ""
             }
            },
            "marker": {
             "colorbar": {
              "outlinewidth": 0,
              "ticks": ""
             }
            }
           }
          ],
          "scattermapbox": [
           {
            "type": "scattermapbox",
            "marker": {
             "colorbar": {
              "outlinewidth": 0,
              "ticks": ""
             }
            }
           }
          ],
          "scatterternary": [
           {
            "type": "scatterternary",
            "marker": {
             "colorbar": {
              "outlinewidth": 0,
              "ticks": ""
             }
            }
           }
          ],
          "scattercarpet": [
           {
            "type": "scattercarpet",
            "marker": {
             "colorbar": {
              "outlinewidth": 0,
              "ticks": ""
             }
            }
           }
          ],
          "carpet": [
           {
            "aaxis": {
             "endlinecolor": "#2a3f5f",
             "gridcolor": "white",
             "linecolor": "white",
             "minorgridcolor": "white",
             "startlinecolor": "#2a3f5f"
            },
            "baxis": {
             "endlinecolor": "#2a3f5f",
             "gridcolor": "white",
             "linecolor": "white",
             "minorgridcolor": "white",
             "startlinecolor": "#2a3f5f"
            },
            "type": "carpet"
           }
          ],
          "table": [
           {
            "cells": {
             "fill": {
              "color": "#EBF0F8"
             },
             "line": {
              "color": "white"
             }
            },
            "header": {
             "fill": {
              "color": "#C8D4E3"
             },
             "line": {
              "color": "white"
             }
            },
            "type": "table"
           }
          ],
          "barpolar": [
           {
            "marker": {
             "line": {
              "color": "#E5ECF6",
              "width": 0.5
             },
             "pattern": {
              "fillmode": "overlay",
              "size": 10,
              "solidity": 0.2
             }
            },
            "type": "barpolar"
           }
          ],
          "pie": [
           {
            "automargin": true,
            "type": "pie"
           }
          ]
         },
         "layout": {
          "autotypenumbers": "strict",
          "colorway": [
           "#636efa",
           "#EF553B",
           "#00cc96",
           "#ab63fa",
           "#FFA15A",
           "#19d3f3",
           "#FF6692",
           "#B6E880",
           "#FF97FF",
           "#FECB52"
          ],
          "font": {
           "color": "#2a3f5f"
          },
          "hovermode": "closest",
          "hoverlabel": {
           "align": "left"
          },
          "paper_bgcolor": "white",
          "plot_bgcolor": "#E5ECF6",
          "polar": {
           "bgcolor": "#E5ECF6",
           "angularaxis": {
            "gridcolor": "white",
            "linecolor": "white",
            "ticks": ""
           },
           "radialaxis": {
            "gridcolor": "white",
            "linecolor": "white",
            "ticks": ""
           }
          },
          "ternary": {
           "bgcolor": "#E5ECF6",
           "aaxis": {
            "gridcolor": "white",
            "linecolor": "white",
            "ticks": ""
           },
           "baxis": {
            "gridcolor": "white",
            "linecolor": "white",
            "ticks": ""
           },
           "caxis": {
            "gridcolor": "white",
            "linecolor": "white",
            "ticks": ""
           }
          },
          "coloraxis": {
           "colorbar": {
            "outlinewidth": 0,
            "ticks": ""
           }
          },
          "colorscale": {
           "sequential": [
            [
             0.0,
             "#0d0887"
            ],
            [
             0.1111111111111111,
             "#46039f"
            ],
            [
             0.2222222222222222,
             "#7201a8"
            ],
            [
             0.3333333333333333,
             "#9c179e"
            ],
            [
             0.4444444444444444,
             "#bd3786"
            ],
            [
             0.5555555555555556,
             "#d8576b"
            ],
            [
             0.6666666666666666,
             "#ed7953"
            ],
            [
             0.7777777777777778,
             "#fb9f3a"
            ],
            [
             0.8888888888888888,
             "#fdca26"
            ],
            [
             1.0,
             "#f0f921"
            ]
           ],
           "sequentialminus": [
            [
             0.0,
             "#0d0887"
            ],
            [
             0.1111111111111111,
             "#46039f"
            ],
            [
             0.2222222222222222,
             "#7201a8"
            ],
            [
             0.3333333333333333,
             "#9c179e"
            ],
            [
             0.4444444444444444,
             "#bd3786"
            ],
            [
             0.5555555555555556,
             "#d8576b"
            ],
            [
             0.6666666666666666,
             "#ed7953"
            ],
            [
             0.7777777777777778,
             "#fb9f3a"
            ],
            [
             0.8888888888888888,
             "#fdca26"
            ],
            [
             1.0,
             "#f0f921"
            ]
           ],
           "diverging": [
            [
             0,
             "#8e0152"
            ],
            [
             0.1,
             "#c51b7d"
            ],
            [
             0.2,
             "#de77ae"
            ],
            [
             0.3,
             "#f1b6da"
            ],
            [
             0.4,
             "#fde0ef"
            ],
            [
             0.5,
             "#f7f7f7"
            ],
            [
             0.6,
             "#e6f5d0"
            ],
            [
             0.7,
             "#b8e186"
            ],
            [
             0.8,
             "#7fbc41"
            ],
            [
             0.9,
             "#4d9221"
            ],
            [
             1,
             "#276419"
            ]
           ]
          },
          "xaxis": {
           "gridcolor": "white",
           "linecolor": "white",
           "ticks": "",
           "title": {
            "standoff": 15
           },
           "zerolinecolor": "white",
           "automargin": true,
           "zerolinewidth": 2
          },
          "yaxis": {
           "gridcolor": "white",
           "linecolor": "white",
           "ticks": "",
           "title": {
            "standoff": 15
           },
           "zerolinecolor": "white",
           "automargin": true,
           "zerolinewidth": 2
          },
          "scene": {
           "xaxis": {
            "backgroundcolor": "#E5ECF6",
            "gridcolor": "white",
            "linecolor": "white",
            "showbackground": true,
            "ticks": "",
            "zerolinecolor": "white",
            "gridwidth": 2
           },
           "yaxis": {
            "backgroundcolor": "#E5ECF6",
            "gridcolor": "white",
            "linecolor": "white",
            "showbackground": true,
            "ticks": "",
            "zerolinecolor": "white",
            "gridwidth": 2
           },
           "zaxis": {
            "backgroundcolor": "#E5ECF6",
            "gridcolor": "white",
            "linecolor": "white",
            "showbackground": true,
            "ticks": "",
            "zerolinecolor": "white",
            "gridwidth": 2
           }
          },
          "shapedefaults": {
           "line": {
            "color": "#2a3f5f"
           }
          },
          "annotationdefaults": {
           "arrowcolor": "#2a3f5f",
           "arrowhead": 0,
           "arrowwidth": 1
          },
          "geo": {
           "bgcolor": "white",
           "landcolor": "#E5ECF6",
           "subunitcolor": "white",
           "showland": true,
           "showlakes": true,
           "lakecolor": "white"
          },
          "title": {
           "x": 0.05
          },
          "mapbox": {
           "style": "light"
          }
         }
        }
       },
       "config": {
        "plotlyServerURL": "https://plot.ly"
       }
      },
      "text/html": "<div>                            <div id=\"a939e233-a461-4638-b93e-3ea10449fee7\" class=\"plotly-graph-div\" style=\"height:525px; width:100%;\"></div>            <script type=\"text/javascript\">                require([\"plotly\"], function(Plotly) {                    window.PLOTLYENV=window.PLOTLYENV || {};                                    if (document.getElementById(\"a939e233-a461-4638-b93e-3ea10449fee7\")) {                    Plotly.newPlot(                        \"a939e233-a461-4638-b93e-3ea10449fee7\",                        [{\"mode\":\"markers\",\"name\":\"Objective Value\",\"x\":[0,1,2,3,4,5,6,7,8,9,10,11,12,13,14,15,16,17,18,19,20,21,22,23],\"y\":[0.8993877033206434,0.8819885437006286,0.2647,0.6492721661011878,0.9120500462803808,0.9097442677655725,0.7719908440107592,0.5411316673330668,0.7450211562940238,0.848911145348907,0.8091980980788289,0.82829774059039,0.7046801980399275,0.7097333630365551,0.839439569534788,0.8288371438384001,0.9217682236113716,0.9292616530316196,0.8856101513473963,0.9300879925452847,0.9312676566796311,0.9114079538982145,0.9292218901670198,0.9315531900622375],\"type\":\"scatter\"},{\"name\":\"Best Value\",\"x\":[0,1,2,3,4,5,6,7,8,9,10,11,12,13,14,15,16,17,18,19,20,21,22,23],\"y\":[0.8993877033206434,0.8993877033206434,0.8993877033206434,0.8993877033206434,0.9120500462803808,0.9120500462803808,0.9120500462803808,0.9120500462803808,0.9120500462803808,0.9120500462803808,0.9120500462803808,0.9120500462803808,0.9120500462803808,0.9120500462803808,0.9120500462803808,0.9120500462803808,0.9217682236113716,0.9292616530316196,0.9292616530316196,0.9300879925452847,0.9312676566796311,0.9312676566796311,0.9312676566796311,0.9315531900622375],\"type\":\"scatter\"}],                        {\"title\":{\"text\":\"Optimization History Plot\"},\"xaxis\":{\"title\":{\"text\":\"Trial\"}},\"yaxis\":{\"title\":{\"text\":\"Objective Value\"}},\"template\":{\"data\":{\"histogram2dcontour\":[{\"type\":\"histogram2dcontour\",\"colorbar\":{\"outlinewidth\":0,\"ticks\":\"\"},\"colorscale\":[[0.0,\"#0d0887\"],[0.1111111111111111,\"#46039f\"],[0.2222222222222222,\"#7201a8\"],[0.3333333333333333,\"#9c179e\"],[0.4444444444444444,\"#bd3786\"],[0.5555555555555556,\"#d8576b\"],[0.6666666666666666,\"#ed7953\"],[0.7777777777777778,\"#fb9f3a\"],[0.8888888888888888,\"#fdca26\"],[1.0,\"#f0f921\"]]}],\"choropleth\":[{\"type\":\"choropleth\",\"colorbar\":{\"outlinewidth\":0,\"ticks\":\"\"}}],\"histogram2d\":[{\"type\":\"histogram2d\",\"colorbar\":{\"outlinewidth\":0,\"ticks\":\"\"},\"colorscale\":[[0.0,\"#0d0887\"],[0.1111111111111111,\"#46039f\"],[0.2222222222222222,\"#7201a8\"],[0.3333333333333333,\"#9c179e\"],[0.4444444444444444,\"#bd3786\"],[0.5555555555555556,\"#d8576b\"],[0.6666666666666666,\"#ed7953\"],[0.7777777777777778,\"#fb9f3a\"],[0.8888888888888888,\"#fdca26\"],[1.0,\"#f0f921\"]]}],\"heatmap\":[{\"type\":\"heatmap\",\"colorbar\":{\"outlinewidth\":0,\"ticks\":\"\"},\"colorscale\":[[0.0,\"#0d0887\"],[0.1111111111111111,\"#46039f\"],[0.2222222222222222,\"#7201a8\"],[0.3333333333333333,\"#9c179e\"],[0.4444444444444444,\"#bd3786\"],[0.5555555555555556,\"#d8576b\"],[0.6666666666666666,\"#ed7953\"],[0.7777777777777778,\"#fb9f3a\"],[0.8888888888888888,\"#fdca26\"],[1.0,\"#f0f921\"]]}],\"heatmapgl\":[{\"type\":\"heatmapgl\",\"colorbar\":{\"outlinewidth\":0,\"ticks\":\"\"},\"colorscale\":[[0.0,\"#0d0887\"],[0.1111111111111111,\"#46039f\"],[0.2222222222222222,\"#7201a8\"],[0.3333333333333333,\"#9c179e\"],[0.4444444444444444,\"#bd3786\"],[0.5555555555555556,\"#d8576b\"],[0.6666666666666666,\"#ed7953\"],[0.7777777777777778,\"#fb9f3a\"],[0.8888888888888888,\"#fdca26\"],[1.0,\"#f0f921\"]]}],\"contourcarpet\":[{\"type\":\"contourcarpet\",\"colorbar\":{\"outlinewidth\":0,\"ticks\":\"\"}}],\"contour\":[{\"type\":\"contour\",\"colorbar\":{\"outlinewidth\":0,\"ticks\":\"\"},\"colorscale\":[[0.0,\"#0d0887\"],[0.1111111111111111,\"#46039f\"],[0.2222222222222222,\"#7201a8\"],[0.3333333333333333,\"#9c179e\"],[0.4444444444444444,\"#bd3786\"],[0.5555555555555556,\"#d8576b\"],[0.6666666666666666,\"#ed7953\"],[0.7777777777777778,\"#fb9f3a\"],[0.8888888888888888,\"#fdca26\"],[1.0,\"#f0f921\"]]}],\"surface\":[{\"type\":\"surface\",\"colorbar\":{\"outlinewidth\":0,\"ticks\":\"\"},\"colorscale\":[[0.0,\"#0d0887\"],[0.1111111111111111,\"#46039f\"],[0.2222222222222222,\"#7201a8\"],[0.3333333333333333,\"#9c179e\"],[0.4444444444444444,\"#bd3786\"],[0.5555555555555556,\"#d8576b\"],[0.6666666666666666,\"#ed7953\"],[0.7777777777777778,\"#fb9f3a\"],[0.8888888888888888,\"#fdca26\"],[1.0,\"#f0f921\"]]}],\"mesh3d\":[{\"type\":\"mesh3d\",\"colorbar\":{\"outlinewidth\":0,\"ticks\":\"\"}}],\"scatter\":[{\"fillpattern\":{\"fillmode\":\"overlay\",\"size\":10,\"solidity\":0.2},\"type\":\"scatter\"}],\"parcoords\":[{\"type\":\"parcoords\",\"line\":{\"colorbar\":{\"outlinewidth\":0,\"ticks\":\"\"}}}],\"scatterpolargl\":[{\"type\":\"scatterpolargl\",\"marker\":{\"colorbar\":{\"outlinewidth\":0,\"ticks\":\"\"}}}],\"bar\":[{\"error_x\":{\"color\":\"#2a3f5f\"},\"error_y\":{\"color\":\"#2a3f5f\"},\"marker\":{\"line\":{\"color\":\"#E5ECF6\",\"width\":0.5},\"pattern\":{\"fillmode\":\"overlay\",\"size\":10,\"solidity\":0.2}},\"type\":\"bar\"}],\"scattergeo\":[{\"type\":\"scattergeo\",\"marker\":{\"colorbar\":{\"outlinewidth\":0,\"ticks\":\"\"}}}],\"scatterpolar\":[{\"type\":\"scatterpolar\",\"marker\":{\"colorbar\":{\"outlinewidth\":0,\"ticks\":\"\"}}}],\"histogram\":[{\"marker\":{\"pattern\":{\"fillmode\":\"overlay\",\"size\":10,\"solidity\":0.2}},\"type\":\"histogram\"}],\"scattergl\":[{\"type\":\"scattergl\",\"marker\":{\"colorbar\":{\"outlinewidth\":0,\"ticks\":\"\"}}}],\"scatter3d\":[{\"type\":\"scatter3d\",\"line\":{\"colorbar\":{\"outlinewidth\":0,\"ticks\":\"\"}},\"marker\":{\"colorbar\":{\"outlinewidth\":0,\"ticks\":\"\"}}}],\"scattermapbox\":[{\"type\":\"scattermapbox\",\"marker\":{\"colorbar\":{\"outlinewidth\":0,\"ticks\":\"\"}}}],\"scatterternary\":[{\"type\":\"scatterternary\",\"marker\":{\"colorbar\":{\"outlinewidth\":0,\"ticks\":\"\"}}}],\"scattercarpet\":[{\"type\":\"scattercarpet\",\"marker\":{\"colorbar\":{\"outlinewidth\":0,\"ticks\":\"\"}}}],\"carpet\":[{\"aaxis\":{\"endlinecolor\":\"#2a3f5f\",\"gridcolor\":\"white\",\"linecolor\":\"white\",\"minorgridcolor\":\"white\",\"startlinecolor\":\"#2a3f5f\"},\"baxis\":{\"endlinecolor\":\"#2a3f5f\",\"gridcolor\":\"white\",\"linecolor\":\"white\",\"minorgridcolor\":\"white\",\"startlinecolor\":\"#2a3f5f\"},\"type\":\"carpet\"}],\"table\":[{\"cells\":{\"fill\":{\"color\":\"#EBF0F8\"},\"line\":{\"color\":\"white\"}},\"header\":{\"fill\":{\"color\":\"#C8D4E3\"},\"line\":{\"color\":\"white\"}},\"type\":\"table\"}],\"barpolar\":[{\"marker\":{\"line\":{\"color\":\"#E5ECF6\",\"width\":0.5},\"pattern\":{\"fillmode\":\"overlay\",\"size\":10,\"solidity\":0.2}},\"type\":\"barpolar\"}],\"pie\":[{\"automargin\":true,\"type\":\"pie\"}]},\"layout\":{\"autotypenumbers\":\"strict\",\"colorway\":[\"#636efa\",\"#EF553B\",\"#00cc96\",\"#ab63fa\",\"#FFA15A\",\"#19d3f3\",\"#FF6692\",\"#B6E880\",\"#FF97FF\",\"#FECB52\"],\"font\":{\"color\":\"#2a3f5f\"},\"hovermode\":\"closest\",\"hoverlabel\":{\"align\":\"left\"},\"paper_bgcolor\":\"white\",\"plot_bgcolor\":\"#E5ECF6\",\"polar\":{\"bgcolor\":\"#E5ECF6\",\"angularaxis\":{\"gridcolor\":\"white\",\"linecolor\":\"white\",\"ticks\":\"\"},\"radialaxis\":{\"gridcolor\":\"white\",\"linecolor\":\"white\",\"ticks\":\"\"}},\"ternary\":{\"bgcolor\":\"#E5ECF6\",\"aaxis\":{\"gridcolor\":\"white\",\"linecolor\":\"white\",\"ticks\":\"\"},\"baxis\":{\"gridcolor\":\"white\",\"linecolor\":\"white\",\"ticks\":\"\"},\"caxis\":{\"gridcolor\":\"white\",\"linecolor\":\"white\",\"ticks\":\"\"}},\"coloraxis\":{\"colorbar\":{\"outlinewidth\":0,\"ticks\":\"\"}},\"colorscale\":{\"sequential\":[[0.0,\"#0d0887\"],[0.1111111111111111,\"#46039f\"],[0.2222222222222222,\"#7201a8\"],[0.3333333333333333,\"#9c179e\"],[0.4444444444444444,\"#bd3786\"],[0.5555555555555556,\"#d8576b\"],[0.6666666666666666,\"#ed7953\"],[0.7777777777777778,\"#fb9f3a\"],[0.8888888888888888,\"#fdca26\"],[1.0,\"#f0f921\"]],\"sequentialminus\":[[0.0,\"#0d0887\"],[0.1111111111111111,\"#46039f\"],[0.2222222222222222,\"#7201a8\"],[0.3333333333333333,\"#9c179e\"],[0.4444444444444444,\"#bd3786\"],[0.5555555555555556,\"#d8576b\"],[0.6666666666666666,\"#ed7953\"],[0.7777777777777778,\"#fb9f3a\"],[0.8888888888888888,\"#fdca26\"],[1.0,\"#f0f921\"]],\"diverging\":[[0,\"#8e0152\"],[0.1,\"#c51b7d\"],[0.2,\"#de77ae\"],[0.3,\"#f1b6da\"],[0.4,\"#fde0ef\"],[0.5,\"#f7f7f7\"],[0.6,\"#e6f5d0\"],[0.7,\"#b8e186\"],[0.8,\"#7fbc41\"],[0.9,\"#4d9221\"],[1,\"#276419\"]]},\"xaxis\":{\"gridcolor\":\"white\",\"linecolor\":\"white\",\"ticks\":\"\",\"title\":{\"standoff\":15},\"zerolinecolor\":\"white\",\"automargin\":true,\"zerolinewidth\":2},\"yaxis\":{\"gridcolor\":\"white\",\"linecolor\":\"white\",\"ticks\":\"\",\"title\":{\"standoff\":15},\"zerolinecolor\":\"white\",\"automargin\":true,\"zerolinewidth\":2},\"scene\":{\"xaxis\":{\"backgroundcolor\":\"#E5ECF6\",\"gridcolor\":\"white\",\"linecolor\":\"white\",\"showbackground\":true,\"ticks\":\"\",\"zerolinecolor\":\"white\",\"gridwidth\":2},\"yaxis\":{\"backgroundcolor\":\"#E5ECF6\",\"gridcolor\":\"white\",\"linecolor\":\"white\",\"showbackground\":true,\"ticks\":\"\",\"zerolinecolor\":\"white\",\"gridwidth\":2},\"zaxis\":{\"backgroundcolor\":\"#E5ECF6\",\"gridcolor\":\"white\",\"linecolor\":\"white\",\"showbackground\":true,\"ticks\":\"\",\"zerolinecolor\":\"white\",\"gridwidth\":2}},\"shapedefaults\":{\"line\":{\"color\":\"#2a3f5f\"}},\"annotationdefaults\":{\"arrowcolor\":\"#2a3f5f\",\"arrowhead\":0,\"arrowwidth\":1},\"geo\":{\"bgcolor\":\"white\",\"landcolor\":\"#E5ECF6\",\"subunitcolor\":\"white\",\"showland\":true,\"showlakes\":true,\"lakecolor\":\"white\"},\"title\":{\"x\":0.05},\"mapbox\":{\"style\":\"light\"}}}},                        {\"responsive\": true}                    ).then(function(){\n                            \nvar gd = document.getElementById('a939e233-a461-4638-b93e-3ea10449fee7');\nvar x = new MutationObserver(function (mutations, observer) {{\n        var display = window.getComputedStyle(gd).display;\n        if (!display || display === 'none') {{\n            console.log([gd, 'removed!']);\n            Plotly.purge(gd);\n            observer.disconnect();\n        }}\n}});\n\n// Listen for the removal of the full notebook cells\nvar notebookContainer = gd.closest('#notebook-container');\nif (notebookContainer) {{\n    x.observe(notebookContainer, {childList: true});\n}}\n\n// Listen for the clearing of the current output cell\nvar outputEl = gd.closest('.output');\nif (outputEl) {{\n    x.observe(outputEl, {childList: true});\n}}\n\n                        })                };                });            </script>        </div>"
     },
     "metadata": {},
     "output_type": "display_data"
    }
   ],
   "source": [
    "optuna.visualization.plot_optimization_history(single_objective)"
   ],
   "metadata": {
    "collapsed": false
   }
  }
 ],
 "metadata": {
  "kernelspec": {
   "display_name": "Python 3",
   "language": "python",
   "name": "python3"
  },
  "language_info": {
   "codemirror_mode": {
    "name": "ipython",
    "version": 2
   },
   "file_extension": ".py",
   "mimetype": "text/x-python",
   "name": "python",
   "nbconvert_exporter": "python",
   "pygments_lexer": "ipython2",
   "version": "2.7.6"
  }
 },
 "nbformat": 4,
 "nbformat_minor": 0
}
