{
 "cells": [
  {
   "cell_type": "code",
   "execution_count": 1,
   "outputs": [],
   "source": [
    "import itertools\n",
    "import matplotlib.animation as animation\n",
    "from matplotlib.colors import ListedColormap\n",
    "import matplotlib.pyplot as plt\n",
    "import numpy as np\n",
    "import pandas as pd\n",
    "import seaborn as sns\n",
    "\n",
    "from irls.irls import LogisticRegression\n",
    "from scipy.special import expit\n",
    "\n",
    "SEED = 123"
   ],
   "metadata": {
    "collapsed": false,
    "ExecuteTime": {
     "start_time": "2023-04-12T21:24:43.036379Z",
     "end_time": "2023-04-12T21:24:43.249387Z"
    }
   }
  },
  {
   "cell_type": "markdown",
   "source": [
    "# Empirical tests of IRLS solver for logistic regression\n",
    "**Advanced Machine Learning - Project 1**\n",
    "\n",
    "## Simple scenario without interactions\n",
    "\n",
    "Classes are not linearly separable."
   ],
   "metadata": {
    "collapsed": false
   }
  },
  {
   "cell_type": "code",
   "execution_count": 2,
   "outputs": [],
   "source": [
    "rng = np.random.default_rng(SEED)\n",
    "ps = [1, 2, 3, 4, 5, 7, 12, 18, 25, 45, 75]\n",
    "ns = [100, 200, 500, 1000]\n",
    "results = []\n",
    "for p in ps:\n",
    "    for n in ns:\n",
    "        beta = rng.uniform(-10,10, (p+1))\n",
    "        X_train = rng.normal(size=(n, p))\n",
    "        proba = expit(beta[0] + beta[1:] @ X_train.transpose())\n",
    "        y_train = rng.binomial(1, proba)\n",
    "        model = LogisticRegression().fit(X_train, y_train)\n",
    "\n",
    "        X_test = rng.normal(size=(n, p))\n",
    "        proba = expit(beta[0] + beta[1:] @ X_test.transpose())\n",
    "        y_test = rng.binomial(1, proba)\n",
    "        y_hat = model.predict(X_test)\n",
    "        acc = np.sum(y_hat == y_test) / n\n",
    "        results += [{\n",
    "            'p': p,\n",
    "            'n': n,\n",
    "            'accuracy': acc\n",
    "        }]\n",
    "results = pd.DataFrame(results).pivot(index='n', columns='p', values='accuracy')"
   ],
   "metadata": {
    "collapsed": false,
    "ExecuteTime": {
     "start_time": "2023-04-12T21:24:43.247387Z",
     "end_time": "2023-04-12T21:24:43.842058Z"
    }
   }
  },
  {
   "cell_type": "code",
   "execution_count": 3,
   "outputs": [
    {
     "data": {
      "text/plain": "<Axes: xlabel='p', ylabel='n'>"
     },
     "execution_count": 3,
     "metadata": {},
     "output_type": "execute_result"
    },
    {
     "data": {
      "text/plain": "<Figure size 640x480 with 2 Axes>",
      "image/png": "[encoded data removed]"
     },
     "metadata": {},
     "output_type": "display_data"
    }
   ],
   "source": [
    "sns.heatmap(results)"
   ],
   "metadata": {
    "collapsed": false,
    "ExecuteTime": {
     "start_time": "2023-04-12T21:24:43.843058Z",
     "end_time": "2023-04-12T21:24:44.141062Z"
    }
   }
  },
  {
   "cell_type": "markdown",
   "source": [
    "## Simple scenario with interactions\n",
    "\n",
    "Classes are not linearly separable."
   ],
   "metadata": {
    "collapsed": false
   }
  },
  {
   "cell_type": "code",
   "execution_count": 4,
   "outputs": [],
   "source": [
    "rng = np.random.default_rng(SEED)\n",
    "ps = [2, 3, 4, 5, 7, 12, 18]\n",
    "ns = [100, 200, 500, 1000]\n",
    "results = []\n",
    "for p in ps:\n",
    "    for n in ns:\n",
    "        interactions = np.stack([i for i in itertools.combinations(range(p), 2)])\n",
    "        beta = rng.uniform(-10,10, (p+len(interactions)+1))\n",
    "        X_train = rng.normal(size=(n, p))\n",
    "        new_cols = np.stack([X_train[:, pair[0]] * X_train[:, pair[1]] for pair in interactions], axis=1)\n",
    "        X = np.hstack([X_train, new_cols])\n",
    "        proba = expit(beta[0] + beta[1:] @ X.transpose())\n",
    "        y_train = rng.binomial(1, proba)\n",
    "        model = LogisticRegression().fit(X_train, y_train, interactions=interactions)\n",
    "\n",
    "        X_test = rng.normal(size=(n, p))\n",
    "        new_cols = np.stack([X_test[:, pair[0]] * X_test[:, pair[1]] for pair in interactions], axis=1)\n",
    "        X = np.hstack([X_test, new_cols])\n",
    "        proba =expit(beta[0] + beta[1:] @ X.transpose())\n",
    "        y_test = rng.binomial(1, proba)\n",
    "        y_hat = model.predict(X_test)\n",
    "        acc = np.sum(y_hat == y_test) / n\n",
    "        results += [{\n",
    "            'p': p,\n",
    "            'n': n,\n",
    "            'accuracy': acc\n",
    "        }]\n",
    "results = pd.DataFrame(results).pivot(index='n', columns='p', values='accuracy')"
   ],
   "metadata": {
    "collapsed": false,
    "ExecuteTime": {
     "start_time": "2023-04-12T21:24:44.148062Z",
     "end_time": "2023-04-12T21:24:45.379671Z"
    }
   }
  },
  {
   "cell_type": "code",
   "execution_count": 5,
   "outputs": [
    {
     "data": {
      "text/plain": "<Axes: xlabel='p', ylabel='n'>"
     },
     "execution_count": 5,
     "metadata": {},
     "output_type": "execute_result"
    },
    {
     "data": {
      "text/plain": "<Figure size 640x480 with 2 Axes>",
      "image/png": "[encoded data removed]"
     },
     "metadata": {},
     "output_type": "display_data"
    }
   ],
   "source": [
    "sns.heatmap(results)"
   ],
   "metadata": {
    "collapsed": false,
    "ExecuteTime": {
     "start_time": "2023-04-12T21:24:45.400673Z",
     "end_time": "2023-04-12T21:24:45.627682Z"
    }
   }
  },
  {
   "cell_type": "markdown",
   "source": [
    "## Visualization of convergence"
   ],
   "metadata": {
    "collapsed": false
   }
  },
  {
   "cell_type": "code",
   "execution_count": 3,
   "outputs": [],
   "source": [
    "%matplotlib inline\n",
    "\n",
    "rng = np.random.default_rng(SEED)\n",
    "n = 200\n",
    "p = 2\n",
    "beta = [-5, -1, 12]\n",
    "X = np.vstack([rng.normal(size=(n, p)), rng.normal(loc=3, size=(n, p))])\n",
    "proba = expit(beta[0] + beta[1:] @ X.transpose())\n",
    "y = rng.binomial(1, proba)\n",
    "\n",
    "model = LogisticRegression(optimizer='IRLS').fit(X, y)\n",
    "y_hat = model.predict(X)\n",
    "\n",
    "xx, yy = np.meshgrid(np.linspace(-4, 7, 150), np.linspace(-4, 7, 150))\n",
    "betas = model.theta_history()\n",
    "\n",
    "fig, ax = plt.subplots(1,1)\n",
    "\n",
    "def animate(i):\n",
    "    ax.clear()\n",
    "    b = betas[i]\n",
    "    proba = expit(b[0] + b[1:] @ np.c_[xx.ravel(), yy.ravel()].transpose())\n",
    "    proba = proba.reshape(xx.shape)\n",
    "    ax.scatter(X[:, 0], X[:, 1], c=y, cmap=ListedColormap(['#d73027', '#1a9850']))\n",
    "    ax.contourf(xx, yy, proba, levels=[0.2*i for i in range(6)], alpha=0.3, cmap='RdYlGn')\n",
    "    ax.set_title(f\"Probability estimation in iteration {i} of IRLS\\n\"\n",
    "                 f\"real beta={beta}\\nestimated beta={np.round(b, 2)}\")\n",
    "\n",
    "\n",
    "ani = animation.FuncAnimation(fig, animate, interval=1, frames=len(betas), repeat=False)\n",
    "c = plt.contourf(xx, yy, expit(beta[0] + beta[1:] @ np.c_[xx.ravel(), yy.ravel()].transpose()).reshape(xx.shape),\n",
    "                 levels=[0.2*i for i in range(6)], alpha=0.3, cmap='RdYlGn')\n",
    "plt.colorbar()\n",
    "plt.close()\n",
    "\n",
    "# Save the animation as an animated GIF\n",
    "ani.save(\"simple_animation.gif\", dpi=300,\n",
    "         writer=animation.PillowWriter(fps=0.5))"
   ],
   "metadata": {
    "collapsed": false,
    "ExecuteTime": {
     "start_time": "2023-04-12T21:24:45.638682Z",
     "end_time": "2023-04-12T21:24:50.394667Z"
    }
   }
  }
 ],
 "metadata": {
  "kernelspec": {
   "display_name": "Python 3",
   "language": "python",
   "name": "python3"
  },
  "language_info": {
   "codemirror_mode": {
    "name": "ipython",
    "version": 2
   },
   "file_extension": ".py",
   "mimetype": "text/x-python",
   "name": "python",
   "nbconvert_exporter": "python",
   "pygments_lexer": "ipython2",
   "version": "2.7.6"
  }
 },
 "nbformat": 4,
 "nbformat_minor": 0
}
