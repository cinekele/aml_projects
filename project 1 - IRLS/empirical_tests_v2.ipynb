{
 "cells": [
  {
   "cell_type": "code",
   "execution_count": 1,
   "metadata": {
    "collapsed": true,
    "ExecuteTime": {
     "start_time": "2023-04-12T20:59:47.881623Z",
     "end_time": "2023-04-12T20:59:47.915623Z"
    }
   },
   "outputs": [],
   "source": [
    "import pandas as pd\n",
    "import seaborn as sns\n",
    "\n",
    "from multiprocess import Pool\n",
    "\n",
    "process_number = 6"
   ]
  },
  {
   "cell_type": "markdown",
   "source": [
    "# Empirical tests of IRLS solver for logistic regression\n",
    "**Advanced Machine Learning - Project 1**\n",
    "\n",
    "## Simple scenario without interactions\n",
    "\n",
    "Classes are not linearly separable."
   ],
   "metadata": {
    "collapsed": false
   }
  },
  {
   "cell_type": "code",
   "execution_count": 2,
   "outputs": [],
   "source": [
    "def perform_experiment(p, seed):\n",
    "    import numpy as np\n",
    "    from irls.irls import LogisticRegression\n",
    "    from scipy.special import expit\n",
    "\n",
    "    def get_data_from_model(beta_true, n, generator):\n",
    "        X = generator.normal(size=(n, p))\n",
    "        proba = expit(beta_true[0] + beta_true[1:] @ X.transpose())\n",
    "        y = generator.binomial(1, proba)\n",
    "        return X, y\n",
    "\n",
    "    rng = np.random.default_rng(seed)\n",
    "    true_beta = rng.uniform(-10, 10, (p + 1))\n",
    "    X, y = get_data_from_model(true_beta, 1_000_000, rng)\n",
    "    model = LogisticRegression(max_num_iters=1_000_000).fit(X, y)\n",
    "    calc_beta = model.theta\n",
    "    return {\n",
    "        'p': p,\n",
    "        'calc': calc_beta,\n",
    "        'real': true_beta,\n",
    "        'norm': np.linalg.norm(true_beta - calc_beta)\n",
    "    }"
   ],
   "metadata": {
    "collapsed": false,
    "ExecuteTime": {
     "start_time": "2023-04-12T20:59:47.908622Z",
     "end_time": "2023-04-12T20:59:47.920622Z"
    }
   }
  },
  {
   "cell_type": "code",
   "execution_count": 3,
   "outputs": [],
   "source": [
    "how_many_betas = 100\n",
    "ps = [2, 3, 4, 5, 7, 12, 18]\n",
    "results = []\n",
    "for p in ps:\n",
    "    with Pool(process_number) as pool:\n",
    "        results.extend(pool.starmap(perform_experiment, zip([p] * how_many_betas, range(how_many_betas))))\n",
    "\n",
    "result_df = pd.DataFrame(results)"
   ],
   "metadata": {
    "collapsed": false,
    "ExecuteTime": {
     "start_time": "2023-04-12T20:59:47.921622Z",
     "end_time": "2023-04-12T21:11:09.185459Z"
    }
   }
  },
  {
   "cell_type": "code",
   "execution_count": 4,
   "outputs": [
    {
     "data": {
      "text/plain": "<Axes: xlabel='p', ylabel='norm'>"
     },
     "execution_count": 4,
     "metadata": {},
     "output_type": "execute_result"
    },
    {
     "data": {
      "text/plain": "<Figure size 640x480 with 1 Axes>",
      "image/png": "[encoded data removed]"
     },
     "metadata": {},
     "output_type": "display_data"
    }
   ],
   "source": [
    "sns.boxplot(result_df, x=\"p\", y=\"norm\")"
   ],
   "metadata": {
    "collapsed": false,
    "ExecuteTime": {
     "start_time": "2023-04-12T21:11:09.186459Z",
     "end_time": "2023-04-12T21:11:09.481458Z"
    }
   }
  },
  {
   "cell_type": "markdown",
   "source": [
    "## Simple scenario with interactions\n",
    "\n",
    "Classes are not linearly separable."
   ],
   "metadata": {
    "collapsed": false
   }
  },
  {
   "cell_type": "code",
   "execution_count": null,
   "outputs": [],
   "source": [
    "def perform_experiment(p, seed):\n",
    "    import numpy as np\n",
    "    from irls.irls import LogisticRegression\n",
    "    from scipy.special import expit\n",
    "    import itertools\n",
    "\n",
    "    def get_data_from_model(beta_true, n, generator):\n",
    "        X = generator.normal(size=(n, p))\n",
    "        new_cols = np.stack([X[:, pair[0]] * X[:, pair[1]] for pair in interactions], axis=1)\n",
    "        X_new = np.hstack([X, new_cols])\n",
    "        proba = expit(beta_true[0] + beta_true[1:] @ X_new.transpose())\n",
    "        y = generator.binomial(1, proba)\n",
    "        return X, y\n",
    "\n",
    "    interactions = np.stack([i for i in itertools.combinations(range(p), 2)])\n",
    "    rng = np.random.default_rng(seed)\n",
    "    true_beta = rng.uniform(-10, 10, (p + len(interactions) + 1))\n",
    "    X, y = get_data_from_model(true_beta, 1_000_000, rng)\n",
    "    model = LogisticRegression(max_num_iters=1_000_000).fit(X, y, interactions=interactions)\n",
    "    calc_beta = model.theta\n",
    "    return {\n",
    "        'p': p,\n",
    "        'calc': calc_beta,\n",
    "        'real': true_beta,\n",
    "        'norm': np.linalg.norm(true_beta - calc_beta)\n",
    "    }\n",
    "\n",
    "how_many_betas = 100\n",
    "ps = [2, 3, 4, 5, 7, 12, 18]\n",
    "results = []\n",
    "for p in ps:\n",
    "    with Pool(process_number) as pool:\n",
    "        result = pool.starmap(perform_experiment, zip([p] * how_many_betas, range(how_many_betas)))\n",
    "        results.extend(result)\n",
    "\n",
    "result_df = pd.DataFrame(results)"
   ],
   "metadata": {
    "collapsed": false,
    "ExecuteTime": {
     "start_time": "2023-04-05T20:04:27.396665Z",
     "end_time": "2023-04-05T23:09:26.664135Z"
    }
   }
  },
  {
   "cell_type": "code",
   "execution_count": null,
   "outputs": [],
   "source": [
    "sns.boxplot(result_df, x=\"p\", y=\"norm\")"
   ],
   "metadata": {
    "collapsed": false,
    "ExecuteTime": {
     "start_time": "2023-04-05T23:09:26.662135Z",
     "end_time": "2023-04-05T23:09:27.005470Z"
    }
   }
  }
 ],
 "metadata": {
  "kernelspec": {
   "display_name": "Python 3",
   "language": "python",
   "name": "python3"
  },
  "language_info": {
   "codemirror_mode": {
    "name": "ipython",
    "version": 2
   },
   "file_extension": ".py",
   "mimetype": "text/x-python",
   "name": "python",
   "nbconvert_exporter": "python",
   "pygments_lexer": "ipython2",
   "version": "2.7.6"
  }
 },
 "nbformat": 4,
 "nbformat_minor": 0
}
